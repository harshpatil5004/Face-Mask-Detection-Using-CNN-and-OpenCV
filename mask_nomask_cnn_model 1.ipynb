{
 "cells": [
  {
   "cell_type": "code",
   "execution_count": 1,
   "id": "b4d6765b-7c57-4efd-a8e4-06dc636d2ed3",
   "metadata": {},
   "outputs": [],
   "source": [
    "#%pip install opencv-python\n"
   ]
  },
  {
   "cell_type": "code",
   "execution_count": 4,
   "id": "0d7556db-c9cc-40e4-97d6-8e9416814cd5",
   "metadata": {},
   "outputs": [],
   "source": [
    "import seaborn as sns\n",
    "import numpy as np\n",
    "import matplotlib.pyplot as plt\n",
    "import tensorflow as tf\n",
    "import keras \n",
    "import os\n",
    "import cv2"
   ]
  },
  {
   "cell_type": "code",
   "execution_count": 5,
   "id": "5971abbf-88c2-49b1-a1e8-9837bd8323ae",
   "metadata": {},
   "outputs": [],
   "source": [
    "path1=r\"C:\\masknomask\"\n",
    "cate=['mask','nomask']"
   ]
  },
  {
   "cell_type": "code",
   "execution_count": 6,
   "id": "42ad31e0-baa2-4e3d-9880-47a77f1a82bf",
   "metadata": {},
   "outputs": [
    {
     "name": "stdout",
     "output_type": "stream",
     "text": [
      "C:\\masknomask\\mask\n",
      "C:\\masknomask\\nomask\n"
     ]
    }
   ],
   "source": [
    "for i in cate:\n",
    "    folders =os.path.join(path1, i)\n",
    "    print(folders)"
   ]
  },
  {
   "cell_type": "code",
   "execution_count": 7,
   "id": "8ad93804-9dba-415b-8aa6-c6f6b6eae4e8",
   "metadata": {},
   "outputs": [],
   "source": [
    "for i in cate:\n",
    "    folders = os.path.join(path1, i)\n",
    "    for image in os.listdir(folders):\n",
    "        image_path =os.path.join(folders, image)\n"
   ]
  },
  {
   "cell_type": "code",
   "execution_count": 8,
   "id": "f1e19b27-9f20-494e-8823-1e992700e94a",
   "metadata": {},
   "outputs": [],
   "source": [
    "# for i in cate:\n",
    "#     folders = os.path.join(path1, i)\n",
    "#     for image in os.listdir(folders):\n",
    "#         image_path =os.path.join(folders, image)\n",
    "#         image_array =cv2.imread(image_path)\n",
    "#         plt.imshow(image_array)\n",
    "#         break\n",
    "        "
   ]
  },
  {
   "cell_type": "code",
   "execution_count": 9,
   "id": "3ef150da-42ba-4133-9339-ef48c515aab9",
   "metadata": {},
   "outputs": [],
   "source": [
    "image_size = 200\n",
    "path1=r\"C:\\masknomask\"\n",
    "cate=['mask','nomask']\n",
    "\n",
    "input_image =[]\n",
    "for i in cate:\n",
    "    folders = os.path.join(path1, i)\n",
    "    label =cate.index(i)\n",
    "    #j=0\n",
    "    for image in os.listdir(folders):\n",
    "        image_path =os.path.join(folders, image)\n",
    "        image_array = cv2.imread(image_path)\n",
    "        #print(image_path)\n",
    "        #print(j)\n",
    "        #j=j+1\n",
    "        image_array = cv2.resize(image_array, (image_size, image_size))\n",
    "        input_image.append([image_array, label])\n",
    "    "
   ]
  },
  {
   "cell_type": "code",
   "execution_count": 10,
   "id": "be78e3b3-c3d8-45db-ac7d-eae77a33f54c",
   "metadata": {},
   "outputs": [],
   "source": [
    "#pip install opencv-python --upgrade"
   ]
  },
  {
   "cell_type": "code",
   "execution_count": 11,
   "id": "49273942-dc8f-4739-9148-3ad71a8d29bf",
   "metadata": {},
   "outputs": [],
   "source": [
    "# Random sampling"
   ]
  },
  {
   "cell_type": "code",
   "execution_count": 12,
   "id": "e2f9956e-02c9-4ab0-9121-f722b6590cc3",
   "metadata": {},
   "outputs": [],
   "source": [
    "# 1st 80 % as train and last 20% as test"
   ]
  },
  {
   "cell_type": "code",
   "execution_count": 13,
   "id": "0629d1b6-3fd1-4fc9-a576-b544587747c3",
   "metadata": {},
   "outputs": [],
   "source": [
    "np.random.shuffle(input_image)"
   ]
  },
  {
   "cell_type": "code",
   "execution_count": 14,
   "id": "6607fcc7-3ce1-4c20-a4c3-4a2d2ffda677",
   "metadata": {},
   "outputs": [],
   "source": [
    "# pixels values are x and labels as Y "
   ]
  },
  {
   "cell_type": "code",
   "execution_count": 15,
   "id": "905791f1-3326-4cf8-907f-198cb9295e99",
   "metadata": {},
   "outputs": [],
   "source": [
    "X=[]\n",
    "Y=[]\n",
    "for X_values, labels in input_image:\n",
    "    X.append(X_values)\n",
    "    Y.append(labels)"
   ]
  },
  {
   "cell_type": "code",
   "execution_count": 16,
   "id": "1f16d2b4-d085-4bb3-82d5-adf113dec76d",
   "metadata": {},
   "outputs": [],
   "source": [
    "X =np.array(X)\n",
    "Y =np.array(Y)"
   ]
  },
  {
   "cell_type": "code",
   "execution_count": 17,
   "id": "d0171d0d-bc7b-4980-ad45-63387f1dd31d",
   "metadata": {},
   "outputs": [
    {
     "data": {
      "text/plain": [
       "1618.4"
      ]
     },
     "execution_count": 17,
     "metadata": {},
     "output_type": "execute_result"
    }
   ],
   "source": [
    "2023*.8"
   ]
  },
  {
   "cell_type": "code",
   "execution_count": 18,
   "id": "e33a5a71-42a5-4c6e-b69b-d9e10ac25bc5",
   "metadata": {},
   "outputs": [
    {
     "data": {
      "text/plain": [
       "2023"
      ]
     },
     "execution_count": 18,
     "metadata": {},
     "output_type": "execute_result"
    }
   ],
   "source": [
    "2023"
   ]
  },
  {
   "cell_type": "code",
   "execution_count": 19,
   "id": "feed2d4a-b2db-47b3-be1f-06600137f7d4",
   "metadata": {},
   "outputs": [
    {
     "data": {
      "text/plain": [
       "(7553, 200, 200, 3)"
      ]
     },
     "execution_count": 19,
     "metadata": {},
     "output_type": "execute_result"
    }
   ],
   "source": [
    "X.shape"
   ]
  },
  {
   "cell_type": "code",
   "execution_count": 20,
   "id": "32cd2d08-2e91-4659-b490-221a743b8bbd",
   "metadata": {},
   "outputs": [
    {
     "data": {
      "text/plain": [
       "3066.4"
      ]
     },
     "execution_count": 20,
     "metadata": {},
     "output_type": "execute_result"
    }
   ],
   "source": [
    "3833*.8"
   ]
  },
  {
   "cell_type": "code",
   "execution_count": 21,
   "id": "dacfcbc8-2162-4290-a161-81833b4fb470",
   "metadata": {},
   "outputs": [],
   "source": [
    "x_train = X[0:3067]  \n",
    "x_test = X[3067:3833]\n",
    "\n",
    "y_train = Y[0:3067]   \n",
    "y_test = Y[3067:3833] \n",
    "\n",
    "x_train = np.array(x_train)\n",
    "x_test = np.array(x_test)\n",
    "\n",
    "y_train = np.array(y_train)\n",
    "y_test = np.array(y_test)\n"
   ]
  },
  {
   "cell_type": "code",
   "execution_count": 22,
   "id": "64d0b0ae-1ada-4822-bc97-4541f653f7d8",
   "metadata": {},
   "outputs": [
    {
     "data": {
      "text/plain": [
       "(7553, 200, 200, 3)"
      ]
     },
     "execution_count": 22,
     "metadata": {},
     "output_type": "execute_result"
    }
   ],
   "source": [
    "X.shape"
   ]
  },
  {
   "cell_type": "code",
   "execution_count": 23,
   "id": "4c378c5a-1622-4e36-8aa8-ebcb36f39e6e",
   "metadata": {},
   "outputs": [
    {
     "data": {
      "text/plain": [
       "2937.6000000000004"
      ]
     },
     "execution_count": 23,
     "metadata": {},
     "output_type": "execute_result"
    }
   ],
   "source": [
    "3672*.8"
   ]
  },
  {
   "cell_type": "code",
   "execution_count": 24,
   "id": "5986d93f-52f7-49ed-877a-9ede6d8d34b0",
   "metadata": {},
   "outputs": [],
   "source": [
    "# 3 is color which is RGB"
   ]
  },
  {
   "cell_type": "code",
   "execution_count": 25,
   "id": "88e8832b-a4fb-4b64-9877-6c1b67a2f1eb",
   "metadata": {},
   "outputs": [],
   "source": [
    "X =X/255 # normalize the data why 255 as the highest value of pixel is 255 and it converts it into 0 and 1"
   ]
  },
  {
   "cell_type": "code",
   "execution_count": 26,
   "id": "8fa21324-084f-4821-a1d0-ef834b9964ab",
   "metadata": {},
   "outputs": [],
   "source": [
    "x_train=x_train/255\n",
    "x_test=x_test/255"
   ]
  },
  {
   "cell_type": "code",
   "execution_count": 27,
   "id": "e8daf75b-231a-4b03-9099-619808947d60",
   "metadata": {},
   "outputs": [],
   "source": [
    "# normalize X_train and y_train"
   ]
  },
  {
   "cell_type": "code",
   "execution_count": 28,
   "id": "ca2bab18-2f10-49bd-a256-9c41195f4989",
   "metadata": {},
   "outputs": [],
   "source": [
    "from tensorflow.keras.models import Sequential\n",
    "from tensorflow.keras.layers import Conv2D, MaxPool2D, Flatten, Dense, Dropout\n",
    "from tensorflow.keras.optimizers import Adam"
   ]
  },
  {
   "cell_type": "code",
   "execution_count": 29,
   "id": "1f4ba915-39d6-432e-b000-931ad4f4cae7",
   "metadata": {},
   "outputs": [
    {
     "name": "stderr",
     "output_type": "stream",
     "text": [
      "C:\\Users\\Harsh\\anaconda3\\harsh2\\Lib\\site-packages\\keras\\src\\layers\\core\\dense.py:87: UserWarning: Do not pass an `input_shape`/`input_dim` argument to a layer. When using Sequential models, prefer using an `Input(shape)` object as the first layer in the model instead.\n",
      "  super().__init__(activity_regularizer=activity_regularizer, **kwargs)\n"
     ]
    }
   ],
   "source": [
    "model = Sequential()\n",
    "model.add(Conv2D(filters = 100, kernel_size = (3,3), activation = 'relu'))\n",
    "model.add(MaxPool2D(pool_size=(2,2)))\n",
    "\n",
    "model.add(Conv2D(filters = 100, kernel_size = (3,3), activation = 'relu'))\n",
    "model.add(MaxPool2D(pool_size=(2,2)))\n",
    "\n",
    "model.add(Conv2D(filters = 100, kernel_size = (3,3), activation = 'relu'))\n",
    "model.add(MaxPool2D(pool_size=(2,2)))\n",
    "\n",
    "\n",
    "model.add(Conv2D(filters = 100, kernel_size = (3,3), activation = 'relu'))\n",
    "model.add(MaxPool2D(pool_size=(2,2)))\n",
    "\n",
    "model.add(Conv2D(filters = 100, kernel_size = (3,3), activation = 'relu'))\n",
    "model.add(MaxPool2D(pool_size=(2,2)))\n",
    "\n",
    "model.add(Conv2D(filters = 100, kernel_size = (3,3), activation = 'relu'))\n",
    "model.add(MaxPool2D(pool_size=(2,2)))\n",
    "\n",
    "model.add(Flatten())\n",
    "model.add(Dense(256 , activation='relu', input_shape = X.shape[1:]))\n",
    "model.add(Dropout(0.2))\n",
    "model.add(Dense(2, activation='softmax'))"
   ]
  },
  {
   "cell_type": "code",
   "execution_count": 30,
   "id": "c20dab9e-b480-4e6e-9d43-3d0f58685073",
   "metadata": {},
   "outputs": [],
   "source": [
    "adam = tf.keras.optimizers.Adam(learning_rate = 0.001)"
   ]
  },
  {
   "cell_type": "code",
   "execution_count": 31,
   "id": "4be3c672-04f3-4a73-b44e-85b26867b1a7",
   "metadata": {},
   "outputs": [],
   "source": [
    "model.compile(optimizer =adam, loss = 'sparse_categorical_crossentropy', metrics = ['accuracy'])"
   ]
  },
  {
   "cell_type": "code",
   "execution_count": 32,
   "id": "870f346a-7368-4559-a3db-aec9611ba1bb",
   "metadata": {},
   "outputs": [
    {
     "name": "stdout",
     "output_type": "stream",
     "text": [
      "Epoch 1/3\n",
      "\u001b[1m39/39\u001b[0m \u001b[32m━━━━━━━━━━━━━━━━━━━━\u001b[0m\u001b[37m\u001b[0m \u001b[1m714s\u001b[0m 18s/step - accuracy: 0.6236 - loss: 0.6182 - val_accuracy: 0.8909 - val_loss: 0.2877\n",
      "Epoch 2/3\n",
      "\u001b[1m39/39\u001b[0m \u001b[32m━━━━━━━━━━━━━━━━━━━━\u001b[0m\u001b[37m\u001b[0m \u001b[1m741s\u001b[0m 19s/step - accuracy: 0.8930 - loss: 0.2651 - val_accuracy: 0.9072 - val_loss: 0.2444\n",
      "Epoch 3/3\n",
      "\u001b[1m39/39\u001b[0m \u001b[32m━━━━━━━━━━━━━━━━━━━━\u001b[0m\u001b[37m\u001b[0m \u001b[1m898s\u001b[0m 23s/step - accuracy: 0.9211 - loss: 0.2291 - val_accuracy: 0.9349 - val_loss: 0.2168\n"
     ]
    },
    {
     "data": {
      "text/plain": [
       "<keras.src.callbacks.history.History at 0x2cc8321bf80>"
      ]
     },
     "execution_count": 32,
     "metadata": {},
     "output_type": "execute_result"
    }
   ],
   "source": [
    "model.fit(x_train, y_train, epochs=3,validation_split=.2,batch_size=64)"
   ]
  },
  {
   "cell_type": "code",
   "execution_count": null,
   "id": "674d22e4-b0e4-4e2a-8896-c39fb0e1549e",
   "metadata": {},
   "outputs": [],
   "source": []
  },
  {
   "cell_type": "code",
   "execution_count": 33,
   "id": "e427b416-131c-4a54-9aa2-4496f932bffe",
   "metadata": {},
   "outputs": [
    {
     "name": "stdout",
     "output_type": "stream",
     "text": [
      "\u001b[1m24/24\u001b[0m \u001b[32m━━━━━━━━━━━━━━━━━━━━\u001b[0m\u001b[37m\u001b[0m \u001b[1m31s\u001b[0m 1s/step\n",
      "Confusion Matrix:\n",
      "[[344  18]\n",
      " [ 25 379]]\n",
      "------------------------------------------------------\n",
      "Classification Report:\n",
      "              precision    recall  f1-score   support\n",
      "\n",
      "           0       0.93      0.95      0.94       362\n",
      "           1       0.95      0.94      0.95       404\n",
      "\n",
      "    accuracy                           0.94       766\n",
      "   macro avg       0.94      0.94      0.94       766\n",
      "weighted avg       0.94      0.94      0.94       766\n",
      "\n"
     ]
    }
   ],
   "source": [
    "pred = model.predict(x_test)\n",
    "pred_classes = pred.argmax(axis=1)\n",
    "\n",
    "from sklearn.metrics import confusion_matrix, classification_report\n",
    "tab = confusion_matrix(y_test, pred_classes)\n",
    "print('Confusion Matrix:')\n",
    "print(tab)\n",
    "print('------------------------------------------------------')\n",
    "print('Classification Report:')\n",
    "print(classification_report(y_test, pred_classes))"
   ]
  },
  {
   "cell_type": "code",
   "execution_count": 37,
   "id": "cd03e760-2d5f-466d-9e4e-d4a767a041a1",
   "metadata": {},
   "outputs": [
    {
     "data": {
      "text/plain": [
       "(200, 200, 3)"
      ]
     },
     "execution_count": 37,
     "metadata": {},
     "output_type": "execute_result"
    }
   ],
   "source": [
    "x_train.shape[1:]"
   ]
  },
  {
   "cell_type": "code",
   "execution_count": 38,
   "id": "eeced45b-1931-421a-98d0-9f115b3746b0",
   "metadata": {},
   "outputs": [
    {
     "data": {
      "text/plain": [
       "(200, 200, 3)"
      ]
     },
     "execution_count": 38,
     "metadata": {},
     "output_type": "execute_result"
    }
   ],
   "source": [
    "X.shape[1:]"
   ]
  },
  {
   "cell_type": "code",
   "execution_count": 39,
   "id": "09abcf7c-0042-4840-b162-8a50497295cd",
   "metadata": {},
   "outputs": [
    {
     "name": "stderr",
     "output_type": "stream",
     "text": [
      "WARNING:absl:You are saving your model as an HDF5 file via `model.save()` or `keras.saving.save_model(model)`. This file format is considered legacy. We recommend using instead the native Keras format, e.g. `model.save('my_model.keras')` or `keras.saving.save_model(model, 'my_model.keras')`. \n"
     ]
    }
   ],
   "source": [
    "model.save(\"mask_nomask_model1.h5\")"
   ]
  },
  {
   "cell_type": "code",
   "execution_count": 40,
   "id": "3ec97391-8133-401b-8768-786f0fcbbad9",
   "metadata": {},
   "outputs": [],
   "source": [
    "model.save('mask_nomask_cnn_model1.keras')\n"
   ]
  },
  {
   "cell_type": "code",
   "execution_count": null,
   "id": "7afd8649-cd0c-4ba4-a0b4-bffb0f21452b",
   "metadata": {},
   "outputs": [],
   "source": []
  }
 ],
 "metadata": {
  "kernelspec": {
   "display_name": "Python 3 (ipykernel)",
   "language": "python",
   "name": "python3"
  },
  "language_info": {
   "codemirror_mode": {
    "name": "ipython",
    "version": 3
   },
   "file_extension": ".py",
   "mimetype": "text/x-python",
   "name": "python",
   "nbconvert_exporter": "python",
   "pygments_lexer": "ipython3",
   "version": "3.12.4"
  }
 },
 "nbformat": 4,
 "nbformat_minor": 5
}
